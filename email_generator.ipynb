{
 "cells": [
  {
   "cell_type": "code",
   "execution_count": null,
   "id": "e74685e2-fd92-44af-a360-69eada764dc0",
   "metadata": {},
   "outputs": [],
   "source": []
  },
  {
   "cell_type": "code",
   "execution_count": 1,
   "id": "639faf56-b5cf-4507-9e35-b895e5302500",
   "metadata": {},
   "outputs": [],
   "source": [
    "from langchain_groq import ChatGroq"
   ]
  },
  {
   "cell_type": "code",
   "execution_count": 15,
   "id": "deec5e16-a0c9-47c1-8c72-31070a4e4232",
   "metadata": {},
   "outputs": [
    {
     "name": "stdout",
     "output_type": "stream",
     "text": [
      "The first person to land on the moon was Neil Armstrong. He stepped out of the lunar module Eagle and onto the moon's surface on July 20, 1969, during the Apollo 11 mission. Armstrong famously declared, \"That's one small step for man, one giant leap for mankind,\" as he became the first human to set foot on the moon.\n"
     ]
    }
   ],
   "source": [
    "\n",
    "\n",
    "llm = ChatGroq(\n",
    "    temperature=0, \n",
    "    groq_api_key='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', \n",
    "    model_name=\"llama-3.3-70b-versatile\"\n",
    ")\n",
    "\n",
    "response = llm.invoke(\"The first person to land on moon was ...\")\n",
    "print(response.content)"
   ]
  },
  {
   "cell_type": "code",
   "execution_count": 16,
   "id": "f9f96cc8-0aca-4984-80e7-beda51854f43",
   "metadata": {},
   "outputs": [],
   "source": [
    "import os\n",
    "groq_api_key = os.getenv('GROQ_API_KEY')\n"
   ]
  },
  {
   "cell_type": "code",
   "execution_count": 17,
   "id": "a3bfaeb5-91ba-45aa-9829-a89c04c590b6",
   "metadata": {},
   "outputs": [
    {
     "name": "stdout",
     "output_type": "stream",
     "text": [
      "ML Quality Process Lead - Portuguese, Customer Engagement Technology - Job ID: 2895878 | Amazon.jobs\n",
      "Skip to main contentHomeTeamsLocationsJob categoriesMy careerMy applicationsMy profileAccount securitySettingsSign outResourcesDisability accommodationsBenefitsInclusive experiencesInterview tipsLeadership principlesWorking at AmazonFAQ×ML Quality Process Lead - Portuguese, Customer Engagement TechnologyJob ID: 2895878 | Amazon.com Services LLCApply nowDESCRIPTIONThe Customer Engagement Technology (CET) organization powers customer service by developing elegant customer and CS Associate (CSA) facing products globally. These products offer effortless self-service and automation solutions to our customers. If customers prefer to interact with a human, we enable CSAs to effectively and elegantly solve customers’ issues using our associate-facing products powered through human-centered design.We are seeking a ML (Machine Learning) Quality Process Lead, who are fluent in Portuguese and English, to join the Omni Machine Learning Data Associate (MLDA) team within CET to help manage quality management processes to analyze, improve annotation, testing, and contact reading accuracy to support new feature and product launches for Customer Service Large Language Models (LLMs).Key job responsibilities- Review annotations by paying close attention to details, making necessary adjustments to ensure high-quality data that supports ongoing model improvement.- Perform root cause analysis using basic data analysis in Excel and SageMaker (annotation tool) on annotations to identify opportunities for improving data accuracy.- Provide support for ML model training data annotations, assisting annotators in maintaining high-quality work by enforcing best practices.- Improve Standard Operating Procedures (SOPs) by sharing findings from reviews or deep dives, ensuring a consistent standard of excellence across the team. - Review LLM testing results provided by testers, paying close attention to details, to ensure their accuracy and identify areas for improvement.- Carefully monitor the accuracy of multiple annotation projects and proactively communicate any blockers or potential delays in the completion of quality checks.A day in the lifeAmazon offers a full range of benefits that support you and eligible family members, including domestic partners and their children. Benefits can vary by location, the number of regularly scheduled hours you work, length of employment, and job status such as seasonal or temporary employment. The benefits that generally apply to regular, full-time employees include:1. Medical, Dental, and Vision Coverage2. Maternity and Parental Leave Options3. Paid Time Off (PTO)4. 401(k) PlanAbout the teamOmni MLDA (Machine Learning Data Associate) is a team that remotely works to develop and fine-tune generative AI machine learning models and executes testing plans to take the customer service experience to the next level. This is executed by teams of MLDAs working alongside Science and Product/Program Management teams to release localized customer-facing and agent-facing CS solutions, while allowing them to focus on the development of their new products. In addition, teams with existing CS experiences can rely on the Omni MLDA team to keep their solutions up-to-date and push identified technical defects to tech partner teams or defect elimination teams.BASIC QUALIFICATIONS- Language fluency in Portuguese (Native-level) and English.- Experience in creating and managing ML annotation processes, testing models, and quality assurance methodologies.- Analytical and problem-solving skills to identify patterns, inconsistencies, and areas for improvement.- Ability to thoroughly investigate and identify misalignment between annotations and SOPs, as well as the root causes of inaccuracies.- Strong ownership and accountability to meet SLAs, and proactive communication regarding blockers, and proposed solutions.- Ability to collaborate closely with cross-functional teams, understand project/stakeholder requirements, and align annotation efforts and model testing accordingly.PREFERRED QUALIFICATIONS- Bachelor's Degree- Experience in annotation- Familiarity in using Excel- Experience with project management and stakeholder managementAmazon is committed to a diverse and inclusive workplace. Amazon is an equal opportunity employer and does not discriminate on the basis of race, national origin, gender, gender identity, sexual orientation, protected veteran status, disability, age, or other legally protected status.Los Angeles County applicants: Job duties for this position include: work safely and cooperatively with other employees, supervisors, and staff; adhere to standards of excellence despite stressful conditions; communicate effectively and respectfully with employees, supervisors, and staff to ensure exceptional customer service; and follow all federal, state, and local laws and Company policies. Criminal history may have a direct, adverse, and negative relationship with some of the material job duties of this position. These include the duties and responsibilities listed above, as well as the abilities to adhere to company policies, exercise sound judgment, effectively manage stress and work safely and respectfully with others, exhibit trustworthiness and professionalism, and safeguard business operations and the Company’s reputation. Pursuant to the Los Angeles County Fair Chance Ordinance, we will consider for employment qualified applicants with arrest and conviction records.Pursuant to the San Francisco Fair Chance Ordinance, we will consider for employment qualified applicants with arrest and conviction records.Our inclusive culture empowers Amazonians to deliver the best results for our customers. If you have a disability and need a workplace accommodation or adjustment during the application and hiring process, including support for the interview or onboarding process, please visit https://amazon.jobs/content/en/how-we-hire/accommodations for more information. If the country/region you’re applying in isn’t listed, please contact your Recruiting Partner.Our compensation reflects the cost of labor across several US geographic markets. The base pay for this position ranges from $40,400/year in our lowest geographic market up to $86,500/year in our highest geographic market. Pay is based on a number of factors including market location and may vary depending on job-related knowledge, skills, and experience. Amazon is a total compensation company. Dependent on the position offered, equity, sign-on payments, and other forms of compensation may be provided as part of a total compensation package, in addition to a full range of medical, financial, and/or other benefits. For more information,  please visit https://www.aboutamazon.com/workplace/employee-benefits. This position will remain posted until filled. Applicants should apply via our internal or external career site.Job detailsUSA, VirtualCustomer Service Technology Machine Learning ScienceShare this jobJOIN US ONFind CareersJob CategoriesTeamsLocationsUS and EU Military recruitingWarehouse and Hourly JobsWorking At AmazonCultureBenefitsAmazon NewsletterDiversity at AmazonOur leadership principlesHelpFAQInterview tipsReview application statusDisability accommodationsEU background checksAmazon is committed to a diverse and inclusive workplace. Amazon is an equal opportunity employer and does not discriminate on the basis of race, national origin, gender, gender identity, sexual orientation, protected veteran status, disability, age, or other legally protected status.Privacy and DataImpressum© 1996-2025, Amazon.com, Inc. or its affiliates\n"
     ]
    }
   ],
   "source": [
    "\n",
    "\n",
    "from langchain_community.document_loaders import WebBaseLoader\n",
    "\n",
    "loader = WebBaseLoader(\"https://www.amazon.jobs/en/jobs/2895878/ml-quality-process-lead-portuguese-customer-engagement-technology\")\n",
    "\n",
    "page_data = loader.load().pop().page_content\n",
    "print(page_data)\n"
   ]
  },
  {
   "cell_type": "code",
   "execution_count": 18,
   "id": "111f45f2-a2ce-4a7a-a73c-e7dc37553362",
   "metadata": {},
   "outputs": [
    {
     "data": {
      "text/plain": [
       "str"
      ]
     },
     "execution_count": 18,
     "metadata": {},
     "output_type": "execute_result"
    }
   ],
   "source": [
    "from langchain_core.prompts import PromptTemplate\n",
    "\n",
    "prompt_extract = PromptTemplate.from_template(\n",
    "        \"\"\"\n",
    "        ### SCRAPED TEXT FROM WEBSITE:\n",
    "        {page_data}\n",
    "        ### INSTRUCTION:\n",
    "        The scraped text is from the career's page of a website.\n",
    "        Your job is to extract the job postings and return them in JSON format containing the \n",
    "        following keys: `role`, `experience`, `skills` and `description`.\n",
    "        Only return the valid JSON.\n",
    "        ### VALID JSON (NO PREAMBLE):    \n",
    "        \"\"\"\n",
    ")\n",
    "\n",
    "chain_extract = prompt_extract | llm \n",
    "res = chain_extract.invoke(input={'page_data':page_data})\n",
    "type(res.content)"
   ]
  },
  {
   "cell_type": "code",
   "execution_count": null,
   "id": "143bac03-ae3f-4495-95a9-b8930e9302cf",
   "metadata": {},
   "outputs": [],
   "source": []
  },
  {
   "cell_type": "code",
   "execution_count": 19,
   "id": "288aebab-e7a7-453c-9534-b204ec3adce9",
   "metadata": {
    "scrolled": true
   },
   "outputs": [
    {
     "data": {
      "text/plain": [
       "{'role': 'ML Quality Process Lead - Portuguese, Customer Engagement Technology',\n",
       " 'experience': 'Experience in creating and managing ML annotation processes, testing models, and quality assurance methodologies',\n",
       " 'skills': ['Language fluency in Portuguese (Native-level) and English',\n",
       "  'Analytical and problem-solving skills',\n",
       "  'Ability to thoroughly investigate and identify misalignment between annotations and SOPs',\n",
       "  'Strong ownership and accountability to meet SLAs, and proactive communication regarding blockers, and proposed solutions',\n",
       "  'Ability to collaborate closely with cross-functional teams'],\n",
       " 'description': 'The Customer Engagement Technology (CET) organization powers customer service by developing elegant customer and CS Associate (CSA) facing products globally. We are seeking a ML (Machine Learning) Quality Process Lead, who are fluent in Portuguese and English, to join the Omni Machine Learning Data Associate (MLDA) team within CET to help manage quality management processes to analyze, improve annotation, testing, and contact reading accuracy to support new feature and product launches for Customer Service Large Language Models (LLMs)'}"
      ]
     },
     "execution_count": 19,
     "metadata": {},
     "output_type": "execute_result"
    }
   ],
   "source": [
    "from langchain_core.output_parsers import JsonOutputParser\n",
    "\n",
    "json_parser = JsonOutputParser()\n",
    "json_res = json_parser.parse(res.content)\n",
    "json_res"
   ]
  },
  {
   "cell_type": "code",
   "execution_count": 20,
   "id": "112fa34a-d77e-40ec-a2c2-f5f2c39f5f9f",
   "metadata": {},
   "outputs": [
    {
     "data": {
      "text/plain": [
       "dict"
      ]
     },
     "execution_count": 20,
     "metadata": {},
     "output_type": "execute_result"
    }
   ],
   "source": [
    "type(json_res)"
   ]
  },
  {
   "cell_type": "code",
   "execution_count": null,
   "id": "4c53c2ab-689d-4939-9abf-61881fd080e5",
   "metadata": {},
   "outputs": [],
   "source": []
  },
  {
   "cell_type": "code",
   "execution_count": 21,
   "id": "a14a14bc-901c-4811-a23f-3fc89516d577",
   "metadata": {},
   "outputs": [
    {
     "data": {
      "text/html": [
       "<div>\n",
       "<style scoped>\n",
       "    .dataframe tbody tr th:only-of-type {\n",
       "        vertical-align: middle;\n",
       "    }\n",
       "\n",
       "    .dataframe tbody tr th {\n",
       "        vertical-align: top;\n",
       "    }\n",
       "\n",
       "    .dataframe thead th {\n",
       "        text-align: right;\n",
       "    }\n",
       "</style>\n",
       "<table border=\"1\" class=\"dataframe\">\n",
       "  <thead>\n",
       "    <tr style=\"text-align: right;\">\n",
       "      <th></th>\n",
       "      <th>Techstack</th>\n",
       "      <th>Links</th>\n",
       "    </tr>\n",
       "  </thead>\n",
       "  <tbody>\n",
       "    <tr>\n",
       "      <th>0</th>\n",
       "      <td>React, Node.js, MongoDB</td>\n",
       "      <td>https://example.com/react-portfolio</td>\n",
       "    </tr>\n",
       "    <tr>\n",
       "      <th>1</th>\n",
       "      <td>Angular,.NET, SQL Server</td>\n",
       "      <td>https://example.com/angular-portfolio</td>\n",
       "    </tr>\n",
       "    <tr>\n",
       "      <th>2</th>\n",
       "      <td>Vue.js, Ruby on Rails, PostgreSQL</td>\n",
       "      <td>https://example.com/vue-portfolio</td>\n",
       "    </tr>\n",
       "    <tr>\n",
       "      <th>3</th>\n",
       "      <td>Python, Django, MySQL</td>\n",
       "      <td>https://example.com/python-portfolio</td>\n",
       "    </tr>\n",
       "    <tr>\n",
       "      <th>4</th>\n",
       "      <td>Java, Spring Boot, Oracle</td>\n",
       "      <td>https://example.com/java-portfolio</td>\n",
       "    </tr>\n",
       "    <tr>\n",
       "      <th>5</th>\n",
       "      <td>Flutter, Firebase, GraphQL</td>\n",
       "      <td>https://example.com/flutter-portfolio</td>\n",
       "    </tr>\n",
       "    <tr>\n",
       "      <th>6</th>\n",
       "      <td>WordPress, PHP, MySQL</td>\n",
       "      <td>https://example.com/wordpress-portfolio</td>\n",
       "    </tr>\n",
       "    <tr>\n",
       "      <th>7</th>\n",
       "      <td>Magento, PHP, MySQL</td>\n",
       "      <td>https://example.com/magento-portfolio</td>\n",
       "    </tr>\n",
       "    <tr>\n",
       "      <th>8</th>\n",
       "      <td>React Native, Node.js, MongoDB</td>\n",
       "      <td>https://example.com/react-native-portfolio</td>\n",
       "    </tr>\n",
       "    <tr>\n",
       "      <th>9</th>\n",
       "      <td>iOS, Swift, Core Data</td>\n",
       "      <td>https://example.com/ios-portfolio</td>\n",
       "    </tr>\n",
       "    <tr>\n",
       "      <th>10</th>\n",
       "      <td>Android, Java, Room Persistence</td>\n",
       "      <td>https://example.com/android-portfolio</td>\n",
       "    </tr>\n",
       "    <tr>\n",
       "      <th>11</th>\n",
       "      <td>Kotlin, Android, Firebase</td>\n",
       "      <td>https://example.com/kotlin-android-portfolio</td>\n",
       "    </tr>\n",
       "    <tr>\n",
       "      <th>12</th>\n",
       "      <td>Android TV, Kotlin, Android NDK</td>\n",
       "      <td>https://example.com/android-tv-portfolio</td>\n",
       "    </tr>\n",
       "    <tr>\n",
       "      <th>13</th>\n",
       "      <td>iOS, Swift, ARKit</td>\n",
       "      <td>https://example.com/ios-ar-portfolio</td>\n",
       "    </tr>\n",
       "    <tr>\n",
       "      <th>14</th>\n",
       "      <td>Cross-platform, Xamarin, Azure</td>\n",
       "      <td>https://example.com/xamarin-portfolio</td>\n",
       "    </tr>\n",
       "    <tr>\n",
       "      <th>15</th>\n",
       "      <td>Backend, Kotlin, Spring Boot</td>\n",
       "      <td>https://example.com/kotlin-backend-portfolio</td>\n",
       "    </tr>\n",
       "    <tr>\n",
       "      <th>16</th>\n",
       "      <td>Frontend, TypeScript, Angular</td>\n",
       "      <td>https://example.com/typescript-frontend-portfolio</td>\n",
       "    </tr>\n",
       "    <tr>\n",
       "      <th>17</th>\n",
       "      <td>Full-stack, JavaScript, Express.js</td>\n",
       "      <td>https://example.com/full-stack-js-portfolio</td>\n",
       "    </tr>\n",
       "    <tr>\n",
       "      <th>18</th>\n",
       "      <td>Machine Learning, Python, TensorFlow</td>\n",
       "      <td>https://example.com/ml-python-portfolio</td>\n",
       "    </tr>\n",
       "    <tr>\n",
       "      <th>19</th>\n",
       "      <td>DevOps, Jenkins, Docker</td>\n",
       "      <td>https://example.com/devops-portfolio</td>\n",
       "    </tr>\n",
       "  </tbody>\n",
       "</table>\n",
       "</div>"
      ],
      "text/plain": [
       "                               Techstack  \\\n",
       "0                React, Node.js, MongoDB   \n",
       "1               Angular,.NET, SQL Server   \n",
       "2      Vue.js, Ruby on Rails, PostgreSQL   \n",
       "3                  Python, Django, MySQL   \n",
       "4              Java, Spring Boot, Oracle   \n",
       "5             Flutter, Firebase, GraphQL   \n",
       "6                  WordPress, PHP, MySQL   \n",
       "7                    Magento, PHP, MySQL   \n",
       "8         React Native, Node.js, MongoDB   \n",
       "9                  iOS, Swift, Core Data   \n",
       "10       Android, Java, Room Persistence   \n",
       "11             Kotlin, Android, Firebase   \n",
       "12       Android TV, Kotlin, Android NDK   \n",
       "13                     iOS, Swift, ARKit   \n",
       "14        Cross-platform, Xamarin, Azure   \n",
       "15          Backend, Kotlin, Spring Boot   \n",
       "16         Frontend, TypeScript, Angular   \n",
       "17    Full-stack, JavaScript, Express.js   \n",
       "18  Machine Learning, Python, TensorFlow   \n",
       "19               DevOps, Jenkins, Docker   \n",
       "\n",
       "                                                Links  \n",
       "0                 https://example.com/react-portfolio  \n",
       "1               https://example.com/angular-portfolio  \n",
       "2                   https://example.com/vue-portfolio  \n",
       "3                https://example.com/python-portfolio  \n",
       "4                  https://example.com/java-portfolio  \n",
       "5               https://example.com/flutter-portfolio  \n",
       "6             https://example.com/wordpress-portfolio  \n",
       "7               https://example.com/magento-portfolio  \n",
       "8          https://example.com/react-native-portfolio  \n",
       "9                   https://example.com/ios-portfolio  \n",
       "10              https://example.com/android-portfolio  \n",
       "11       https://example.com/kotlin-android-portfolio  \n",
       "12           https://example.com/android-tv-portfolio  \n",
       "13               https://example.com/ios-ar-portfolio  \n",
       "14              https://example.com/xamarin-portfolio  \n",
       "15       https://example.com/kotlin-backend-portfolio  \n",
       "16  https://example.com/typescript-frontend-portfolio  \n",
       "17        https://example.com/full-stack-js-portfolio  \n",
       "18            https://example.com/ml-python-portfolio  \n",
       "19               https://example.com/devops-portfolio  "
      ]
     },
     "execution_count": 21,
     "metadata": {},
     "output_type": "execute_result"
    }
   ],
   "source": [
    "import pandas as pd\n",
    "\n",
    "df = pd.read_csv(\"my_portfolio.csv\")\n",
    "df"
   ]
  },
  {
   "cell_type": "code",
   "execution_count": 22,
   "id": "83a77564-a735-4baf-80e6-b4baeafe5ac3",
   "metadata": {},
   "outputs": [],
   "source": [
    "import uuid\n",
    "import chromadb\n",
    "\n",
    "client = chromadb.PersistentClient('vectorstore')\n",
    "collection = client.get_or_create_collection(name=\"portfolio\")\n",
    "\n",
    "if not collection.count():\n",
    "    for _, row in df.iterrows():\n",
    "        collection.add(documents=row[\"Techstack\"],\n",
    "                       metadatas={\"links\": row[\"Links\"]},\n",
    "                       ids=[str(uuid.uuid4())])"
   ]
  },
  {
   "cell_type": "code",
   "execution_count": null,
   "id": "8f25bab9-bfc1-452f-a26a-a286eee91435",
   "metadata": {},
   "outputs": [],
   "source": []
  },
  {
   "cell_type": "code",
   "execution_count": 23,
   "id": "7cb04a8c-2cce-4a40-85b0-b3583bfb733c",
   "metadata": {},
   "outputs": [
    {
     "data": {
      "text/plain": [
       "[[{'links': 'https://example.com/ml-python-portfolio'},\n",
       "  {'links': 'https://example.com/python-portfolio'}],\n",
       " [{'links': 'https://example.com/java-portfolio'},\n",
       "  {'links': 'https://example.com/android-portfolio'}]]"
      ]
     },
     "execution_count": 23,
     "metadata": {},
     "output_type": "execute_result"
    }
   ],
   "source": [
    "links = collection.query(query_texts=[\"experience in python\",\"experience in java\"], n_results=2).get('metadatas', [])\n",
    "links\n"
   ]
  },
  {
   "cell_type": "code",
   "execution_count": 24,
   "id": "19ac0e5d-b05a-4cb9-81c2-261c5668da39",
   "metadata": {},
   "outputs": [
    {
     "data": {
      "text/plain": [
       "[[{'links': 'https://example.com/java-portfolio'},\n",
       "  {'links': 'https://example.com/ios-ar-portfolio'}],\n",
       " [{'links': 'https://example.com/ml-python-portfolio'},\n",
       "  {'links': 'https://example.com/angular-portfolio'}],\n",
       " [{'links': 'https://example.com/java-portfolio'},\n",
       "  {'links': 'https://example.com/ml-python-portfolio'}],\n",
       " [{'links': 'https://example.com/full-stack-js-portfolio'},\n",
       "  {'links': 'https://example.com/typescript-frontend-portfolio'}],\n",
       " [{'links': 'https://example.com/xamarin-portfolio'},\n",
       "  {'links': 'https://example.com/devops-portfolio'}]]"
      ]
     },
     "execution_count": 24,
     "metadata": {},
     "output_type": "execute_result"
    }
   ],
   "source": [
    "links = collection.query(query_texts=job['skills'], n_results=2).get('metadatas', [])\n",
    "links"
   ]
  },
  {
   "cell_type": "code",
   "execution_count": 25,
   "id": "7fb0ea77-bb51-4b7c-84ee-f414a72c9e55",
   "metadata": {},
   "outputs": [
    {
     "data": {
      "text/plain": [
       "{'role': 'ML Quality Process Lead - Portuguese, Customer Engagement Technology',\n",
       " 'experience': 'Experience in creating and managing ML annotation processes, testing models, and quality assurance methodologies',\n",
       " 'skills': ['Language fluency in Portuguese (Native-level) and English',\n",
       "  'Analytical and problem-solving skills',\n",
       "  'Ability to thoroughly investigate and identify misalignment between annotations and SOPs',\n",
       "  'Strong ownership and accountability to meet SLAs, and proactive communication regarding blockers, and proposed solutions',\n",
       "  'Ability to collaborate closely with cross-functional teams'],\n",
       " 'description': 'The Customer Engagement Technology (CET) organization powers customer service by developing elegant customer and CS Associate (CSA) facing products globally. We are seeking a ML (Machine Learning) Quality Process Lead, who are fluent in Portuguese and English, to join the Omni Machine Learning Data Associate (MLDA) team within CET to help manage quality management processes to analyze, improve annotation, testing, and contact reading accuracy to support new feature and product launches for Customer Service Large Language Models (LLMs)'}"
      ]
     },
     "execution_count": 25,
     "metadata": {},
     "output_type": "execute_result"
    }
   ],
   "source": [
    "job "
   ]
  },
  {
   "cell_type": "code",
   "execution_count": 26,
   "id": "6be6c8de-ecb8-4e6a-b9d3-dfe8b838529e",
   "metadata": {},
   "outputs": [
    {
     "data": {
      "text/plain": [
       "['Language fluency in Portuguese (Native-level) and English',\n",
       " 'Analytical and problem-solving skills',\n",
       " 'Ability to thoroughly investigate and identify misalignment between annotations and SOPs',\n",
       " 'Strong ownership and accountability to meet SLAs, and proactive communication regarding blockers, and proposed solutions',\n",
       " 'Ability to collaborate closely with cross-functional teams']"
      ]
     },
     "execution_count": 26,
     "metadata": {},
     "output_type": "execute_result"
    }
   ],
   "source": [
    "job = json_res\n",
    "job['skills']"
   ]
  },
  {
   "cell_type": "code",
   "execution_count": 27,
   "id": "ee3086f4-c6a2-4fa3-abdf-5ab029a8f8b6",
   "metadata": {},
   "outputs": [
    {
     "name": "stdout",
     "output_type": "stream",
     "text": [
      "Subject: Expert ML Quality Process Solutions for Customer Engagement Technology\n",
      "\n",
      "Dear Hiring Manager,\n",
      "\n",
      "I came across the job posting for an ML Quality Process Lead - Portuguese, Customer Engagement Technology, and I am excited to introduce AtliQ, an AI & Software Consulting company that can fulfill your requirements. With our expertise in machine learning and software development, we can help you manage quality management processes to analyze, improve annotation, testing, and contact reading accuracy for your Customer Service Large Language Models (LLMs).\n",
      "\n",
      "At AtliQ, we have a proven track record of delivering tailored solutions that foster scalability, process optimization, cost reduction, and heightened overall efficiency. Our team of experts has experience in creating and managing ML annotation processes, testing models, and quality assurance methodologies. We are confident that our capabilities align with your needs, and we would be delighted to collaborate with your team.\n",
      "\n",
      "Our portfolio showcases our expertise in machine learning, software development, and quality assurance. Some relevant examples include:\n",
      "- Our ML Python portfolio: https://example.com/ml-python-portfolio\n",
      "- Our Java portfolio: https://example.com/java-portfolio\n",
      "- Our Full Stack JS portfolio: https://example.com/full-stack-js-portfolio\n",
      "\n",
      "These examples demonstrate our ability to develop and implement high-quality solutions that meet the needs of our clients. We are fluent in multiple languages, including Portuguese and English, and have a strong analytical and problem-solving skill set.\n",
      "\n",
      "I would be happy to schedule a call to discuss how AtliQ can support your ML quality process needs and help you achieve your goals. Please let me know if you are interested, and we can schedule a call at your convenience.\n",
      "\n",
      "Best regards,\n",
      "\n",
      "Mohan\n",
      "Business Development Executive\n",
      "AtliQ\n"
     ]
    }
   ],
   "source": [
    "prompt_email = PromptTemplate.from_template(\n",
    "        \"\"\"\n",
    "        ### JOB DESCRIPTION:\n",
    "        {job_description}\n",
    "        \n",
    "        ### INSTRUCTION:\n",
    "        You are Mohan, a business development executive at AtliQ. AtliQ is an AI & Software Consulting company dedicated to facilitating\n",
    "        the seamless integration of business processes through automated tools. \n",
    "        Over our experience, we have empowered numerous enterprises with tailored solutions, fostering scalability, \n",
    "        process optimization, cost reduction, and heightened overall efficiency. \n",
    "        Your job is to write a cold email to the client regarding the job mentioned above describing the capability of AtliQ \n",
    "        in fulfilling their needs.\n",
    "        Also add the most relevant ones from the following links to showcase Atliq's portfolio: {link_list}\n",
    "        Remember you are Mohan, BDE at AtliQ. \n",
    "        Do not provide a preamble.\n",
    "        ### EMAIL (NO PREAMBLE):\n",
    "        \n",
    "        \"\"\"\n",
    "        )\n",
    "\n",
    "chain_email = prompt_email | llm\n",
    "res = chain_email.invoke({\"job_description\": str(job), \"link_list\": links})\n",
    "print(res.content)"
   ]
  },
  {
   "cell_type": "code",
   "execution_count": null,
   "id": "5037da50-cee0-4300-9a1e-91a753e44b99",
   "metadata": {},
   "outputs": [],
   "source": []
  },
  {
   "cell_type": "code",
   "execution_count": null,
   "id": "9ecf2f23-b66a-45da-a747-4ac14e405f30",
   "metadata": {},
   "outputs": [],
   "source": []
  },
  {
   "cell_type": "code",
   "execution_count": null,
   "id": "e5acc4f3-ffa0-440c-8e85-57c300d6876e",
   "metadata": {},
   "outputs": [],
   "source": []
  },
  {
   "cell_type": "code",
   "execution_count": null,
   "id": "7ee11c80-2fb0-47b2-84cd-647720e2cf89",
   "metadata": {},
   "outputs": [],
   "source": []
  }
 ],
 "metadata": {
  "kernelspec": {
   "display_name": "Python 3 (ipykernel)",
   "language": "python",
   "name": "python3"
  },
  "language_info": {
   "codemirror_mode": {
    "name": "ipython",
    "version": 3
   },
   "file_extension": ".py",
   "mimetype": "text/x-python",
   "name": "python",
   "nbconvert_exporter": "python",
   "pygments_lexer": "ipython3",
   "version": "3.13.2"
  }
 },
 "nbformat": 4,
 "nbformat_minor": 5
}
